{
  "cells": [
    {
      "cell_type": "markdown",
      "metadata": {
        "id": "view-in-github",
        "colab_type": "text"
      },
      "source": [
        "<a href=\"https://colab.research.google.com/github/ritamonteiroo/Dimensionamento_Silo_Python/blob/main/Dimensionamentosilo.ipynb\" target=\"_parent\"><img src=\"https://colab.research.google.com/assets/colab-badge.svg\" alt=\"Open In Colab\"/></a>"
      ]
    },
    {
      "cell_type": "code",
      "execution_count": null,
      "metadata": {
        "id": "G2nlo1Y16Nx3"
      },
      "outputs": [],
      "source": [
        "import math"
      ]
    },
    {
      "cell_type": "code",
      "execution_count": null,
      "metadata": {
        "id": "oi6KAesy6NyE"
      },
      "outputs": [],
      "source": [
        "diametro_silo= 18.52 #diametro do silo\n",
        "altura_cilindro = 8.40 #em metros\n",
        "altura_total= 14.18 #em metros\n",
        "altura_do_chapeu = 5.78 #em metros\n",
        "altura_util_anel: 0.84 #em metros\n",
        "largura_util_da_chapa=0.914 #em metros\n",
        "numero_de_aneis: 10\n",
        "\n"
      ]
    },
    {
      "cell_type": "code",
      "execution_count": null,
      "metadata": {
        "id": "fITKvG7N6NyH"
      },
      "outputs": [],
      "source": [
        "umidade_inicial = 0.13  # 13%\n",
        "angulo_talude_natural = math.radians(26)  # 26 graus em radianos\n",
        "angulo_atrito_interno = math.radians(25)  # 25 graus em radianos\n",
        "angulo_atrito_grao_parede = math.radians(23.7)  # 23.7 graus em radianos\n",
        "peso_especifico_aparente = 770  # kgf/m³"
      ]
    },
    {
      "cell_type": "code",
      "execution_count": null,
      "metadata": {
        "id": "uL9mdfnr6NyJ",
        "outputId": "5edaac18-eff1-4ef8-c469-034853bf9262",
        "colab": {
          "base_uri": "https://localhost:8080/"
        }
      },
      "outputs": [
        {
          "output_type": "stream",
          "name": "stdout",
          "text": [
            "O perímetro do silo é: 58.18 m\n"
          ]
        }
      ],
      "source": [
        "# 1 numero de chapas por anel de coluna\n",
        "\n",
        "perimetro_do_silo = math.pi*diametro_silo\n",
        "perimetro_do_silo\n",
        "\n",
        "print(f\"O perímetro do silo é: {round(perimetro_do_silo,2)} m\")"
      ]
    },
    {
      "cell_type": "markdown",
      "metadata": {
        "id": "Dy0alob_6NyM"
      },
      "source": [
        "\n",
        "Com o comprimento útil de cada chapa de 3,00 m e o perímetro de 58,18 m, teremos o valor de 19,39 chapas por cada anel.\n",
        "Logo, como as chapas são sobrepostas, vamos utilizar 20 chapas por cada anel.\n",
        "Iremos considerar que para cada chapa será fixada duas colunas ao redor do silo.\n",
        "Então, teremos 40 colunas ao longo do perímetro do mesmo\n"
      ]
    },
    {
      "cell_type": "code",
      "execution_count": null,
      "metadata": {
        "id": "Z_DizmeD6NyT",
        "outputId": "73eb1a92-7d92-4f2a-ff3f-1a02becf0dbe",
        "colab": {
          "base_uri": "https://localhost:8080/"
        }
      },
      "outputs": [
        {
          "output_type": "stream",
          "name": "stdout",
          "text": [
            "A verificação da esbeltez é: 4.63m\n",
            " Altura do cilindro > rh = esbelto\n"
          ]
        }
      ],
      "source": [
        "#verificação da esbeltez\n",
        "\n",
        "altura_cilindro = 8.40\n",
        "\n",
        "rh = diametro_silo/4\n",
        "rh\n",
        "\n",
        "print(f\"A verificação da esbeltez é: {rh}m\")\n",
        "\n",
        "print(f\" Altura do cilindro > rh = esbelto\")\n"
      ]
    },
    {
      "cell_type": "code",
      "execution_count": null,
      "metadata": {
        "id": "RhCSJs-36NyW",
        "outputId": "02952cf7-2dff-45c1-f4c3-ef541fabd929",
        "colab": {
          "base_uri": "https://localhost:8080/"
        }
      },
      "outputs": [
        {
          "output_type": "stream",
          "name": "stdout",
          "text": [
            "A pressão horizontal máxima é: 8121.52kgf/m³\n"
          ]
        }
      ],
      "source": [
        "#pressões e forças, segundo reimbert\n",
        "\n",
        "#pressão horizontal máxima\n",
        "\n",
        "ph_max= (peso_especifico_aparente * diametro_silo)/(4*math.tan(angulo_atrito_grao_parede))\n",
        "ph_max\n",
        "\n",
        "print(f\"A pressão horizontal máxima é: {(round(ph_max,2))}kgf/m³\")"
      ]
    },
    {
      "cell_type": "code",
      "execution_count": null,
      "metadata": {
        "id": "ef29_FwF6NyY"
      },
      "outputs": [],
      "source": [
        "#pressões horizontais unitárias\n",
        "\n",
        "#pz= ph_max((1-(Z/A)+1)**2)"
      ]
    },
    {
      "cell_type": "code",
      "execution_count": null,
      "metadata": {
        "id": "NfbJreKc6Nya",
        "outputId": "dd352cb4-b753-4d2a-d754-b0b60e250927",
        "colab": {
          "base_uri": "https://localhost:8080/"
        }
      },
      "outputs": [
        {
          "output_type": "stream",
          "name": "stdout",
          "text": [
            "A área é: 24.06m\n"
          ]
        }
      ],
      "source": [
        "# calcular a área\n",
        "\n",
        "A = diametro_silo/((4*math.tan(angulo_atrito_grao_parede))*\n",
        "                   (((math.tan(math.radians(45) -(angulo_atrito_interno/2)))**2)))-(altura_do_chapeu/3)\n",
        "\n",
        "A\n",
        "\n",
        "print(f\"A área é: {(round(A,2))}m\")"
      ]
    },
    {
      "cell_type": "markdown",
      "metadata": {
        "id": "h_7KSSbb6Nyc"
      },
      "source": [
        "Este código cria um loop para calcular os valores de pz com base nos valores de Z, A e ph_max, e armazena os resultados em uma lista pz_values. Em seguida, ele imprime os valores calculados com a notação pz1, pz2, etc., onde pz1 corresponde ao primeiro valor de Z, pz2 ao segundo, e assim por diante."
      ]
    },
    {
      "cell_type": "code",
      "execution_count": null,
      "metadata": {
        "id": "Mr1KdwoN6Nyd",
        "outputId": "cb3e9334-afe3-470d-e010-ff120ca2c5e4",
        "colab": {
          "base_uri": "https://localhost:8080/"
        }
      },
      "outputs": [
        {
          "output_type": "stream",
          "name": "stdout",
          "text": [
            "pz10 = = 538.69 kgf/m³\n",
            "pz9 = = 1025.51 kgf/m³\n",
            "pz8 = = 1466.9 kgf/m³\n",
            "pz7 = = 1868.36 kgf/m³\n",
            "pz6 = = 2234.56 kgf/m³\n",
            "pz5 = = 2569.51 kgf/m³\n",
            "pz4 = = 2876.66 kgf/m³\n",
            "pz3 = = 3159.01 kgf/m³\n",
            "pz2 = = 3419.16 kgf/m³\n",
            "pz1 = = 3659.38 kgf/m³\n"
          ]
        }
      ],
      "source": [
        "'''\n",
        "É necessário calcular as pressões horizontais\n",
        "unitárias em todas as ordenadas de carga\n",
        "'''\n",
        "# Valores fornecidos\n",
        "ordenadas_de_carga = [0.84, 1.68, 2.52, 3.36, 4.2, 5.04, 5.88, 6.72, 7.56, 8.4]\n",
        "\n",
        "# Lista para armazenar os valores de pz\n",
        "pz_values = []\n",
        "\n",
        "# Loop através da fórmula\n",
        "for Z in ordenadas_de_carga:\n",
        "    pz = ph_max * (1-((Z/A)+1)**-2)\n",
        "    pz_values.append(pz)\n",
        "\n",
        "# Exibir os resultados\n",
        "for i, pz in enumerate(pz_values):\n",
        "    print(f\"pz{len(pz_values) - i} = = {round(pz, 2)} kgf/m³\")\n"
      ]
    },
    {
      "cell_type": "markdown",
      "metadata": {
        "id": "LLDqp8uR6Nyf"
      },
      "source": [
        "Este código cria um loop para calcular os valores de Qz com base nos valores de Z, A, peso_especifico_aparente e altura_do_chapeu, e armazena os resultados em uma lista Qz_values. Em seguida, ele imprime os valores calculados com a notação Qz1, Qz2, etc., onde Qz1 corresponde ao primeiro valor de Z, Qz2 ao segundo, e assim por diante."
      ]
    },
    {
      "cell_type": "code",
      "execution_count": null,
      "metadata": {
        "id": "BSSSJW0J6Nyg",
        "outputId": "13cfa0e9-08d5-4a4a-bd76-10dc57663657",
        "colab": {
          "base_uri": "https://localhost:8080/"
        }
      },
      "outputs": [
        {
          "output_type": "stream",
          "name": "stdout",
          "text": [
            "Qz10 = 2108.51 kgf/m²\n",
            "Qz9 = 2692.71 kgf/m²\n",
            "Qz8 = 3239.98 kgf/m²\n",
            "Qz7 = 3753.72 kgf/m²\n",
            "Qz6 = 4236.92 kgf/m²\n",
            "Qz5 = 4692.22 kgf/m²\n",
            "Qz4 = 5121.98 kgf/m²\n",
            "Qz3 = 5528.29 kgf/m²\n",
            "Qz2 = 5913.0 kgf/m²\n",
            "Qz1 = 6277.81 kgf/m²\n"
          ]
        }
      ],
      "source": [
        "# Valores fornecidos\n",
        "ordenadas_de_carga = [0.84, 1.68, 2.52, 3.36, 4.2, 5.04, 5.88, 6.72, 7.56, 8.4]\n",
        "\n",
        "# Lista para armazenar os valores de Qz\n",
        "Qz_values = []\n",
        "\n",
        "# Loop através da fórmula\n",
        "for Z in ordenadas_de_carga:\n",
        "    Qz = peso_especifico_aparente*((Z*((Z/A)+1)**-1)+(altura_do_chapeu/3))\n",
        "    Qz_values.append(Qz)\n",
        "\n",
        "# Exibir os resultados\n",
        "for i, Qz in enumerate(Qz_values):\n",
        "    print(f\"Qz{len(pz_values) - i} = {round(Qz,2)} kgf/m²\")\n"
      ]
    },
    {
      "cell_type": "markdown",
      "metadata": {
        "id": "6LpmPEv76Nyi"
      },
      "source": [
        "Este código cria um loop para calcular os valores de fatz com base nos valores de Z, peso_especifico_aparente, altura_do_chapeu, Qz e diametro_silo, e armazena os resultados em uma lista fatz_values. Em seguida, ele imprime os valores calculados com a notação fatz1, fatz2, etc., onde fatz1 corresponde ao primeiro valor de Z e Qz, fatz2 ao segundo, e assim por diante."
      ]
    },
    {
      "cell_type": "code",
      "execution_count": null,
      "metadata": {
        "id": "uvOUlBRt6Nyi",
        "outputId": "c3c6c20f-231b-4c3e-d180-06420bb7b7ff",
        "colab": {
          "base_uri": "https://localhost:8080/"
        }
      },
      "outputs": [
        {
          "output_type": "stream",
          "name": "stdout",
          "text": [
            "fatz10 = 5877.59 kgf\n",
            "fatz9 = 22743.16 kgf\n",
            "fatz8 = 49555.01 kgf\n",
            "fatz7 = 85399.08 kgf\n",
            "fatz6 = 129470.0 kgf\n",
            "fatz5 = 181055.35 kgf\n",
            "fatz4 = 239522.7 kgf\n",
            "fatz3 = 304308.63 kgf\n",
            "fatz2 = 374909.59 kgf\n",
            "fatz1 = 450874.15 kgf\n"
          ]
        }
      ],
      "source": [
        "#Força de atrito\n",
        "\n",
        "ordenadas_de_carga = [0.84, 1.68, 2.52, 3.36, 4.2, 5.04, 5.88, 6.72, 7.56, 8.4]\n",
        "\n",
        "pressao_vertical_unitaria = [2108.51470648135, 2692.7068020875204, 3239.9765871563322, 3753.717199483289, 4236.91836491227, 4692.224619155792,\n",
        "             5121.983729170685, 5528.287186220256, 5913.004244898063, 6277.810677190162]\n",
        "\n",
        "# Lista para armazenar os valores de fatz\n",
        "fatz_values = []\n",
        "\n",
        "# Loop através da fórmula\n",
        "for Z, Qz in zip(ordenadas_de_carga, pressao_vertical_unitaria):\n",
        "    fatz = ((math.pi*(diametro_silo**2)/4)*((Z*peso_especifico_aparente)+(altura_do_chapeu*peso_especifico_aparente/3)-Qz))\n",
        "    fatz_values.append(fatz)\n",
        "\n",
        "# Exibir os resultados\n",
        "for i, fatz in enumerate(fatz_values):\n",
        "    print(f\"fatz{len(fatz_values) - i} = {round(fatz,2)} kgf\")\n"
      ]
    },
    {
      "cell_type": "markdown",
      "metadata": {
        "id": "hkLn6OCN6Nyj"
      },
      "source": [
        "Serão 40 colunas. Cada coluna será composta por 5 elementos de 1,68 m, totalizando 8,40. Para os montantes será utilizado perfil U da Companhia Siderúrgica Nacional C 10” x 22,7. Com área da seção transversal de 29 cm² e raio de giração de 1,81 cm."
      ]
    },
    {
      "cell_type": "code",
      "execution_count": null,
      "metadata": {
        "id": "LzquOhSN6Nyl",
        "outputId": "d38c9cf1-8733-4cc5-d7a2-48206ea44d17",
        "colab": {
          "base_uri": "https://localhost:8080/"
        }
      },
      "outputs": [
        {
          "output_type": "stream",
          "name": "stdout",
          "text": [
            "P1 = 121222.81 kgf\n",
            "P2 = 6422.74 kgf\n",
            "P3 = 450874.15 kgf\n"
          ]
        }
      ],
      "source": [
        "#Dimensionamento estrutural\n",
        "\n",
        "#carregamentos\n",
        "\n",
        "# P1 = cobertur ae termometria\n",
        "P1 = 450*(math.pi*(diametro_silo**2)/4)\n",
        "P1 = (round(P1,2))\n",
        "\n",
        "# P2 = vento\n",
        "P2 = 60*altura_do_chapeu*diametro_silo\n",
        "P2 = (round(P2,2))\n",
        "\n",
        "#P3 = força de atrito variável: é considerada a maior força que atua ao longo da altura do silo\n",
        "P3 =  450874.1545873186\n",
        "P3 = (round(P3,2))\n",
        "\n",
        "print(f\"P1 = {P1} kgf\")\n",
        "print(f\"P2 = {P2} kgf\")\n",
        "print(f\"P3 = {P3} kgf\")"
      ]
    },
    {
      "cell_type": "code",
      "execution_count": null,
      "metadata": {
        "id": "-uRhZNGe6Nym",
        "outputId": "950f4980-7908-41a1-9ed9-3dffddf649d4",
        "colab": {
          "base_uri": "https://localhost:8080/"
        }
      },
      "outputs": [
        {
          "output_type": "stream",
          "name": "stdout",
          "text": [
            "F=14462.99 kgf\n"
          ]
        }
      ],
      "source": [
        "# carga sore cada coluna\n",
        "numero_de_colunas = 40\n",
        "\n",
        "F= (P1+P2+P3)/numero_de_colunas\n",
        "F = (round(F,2))\n",
        "\n",
        "print(f\"F={F} kgf\")"
      ]
    },
    {
      "cell_type": "code",
      "execution_count": null,
      "metadata": {
        "id": "E9ErLAYM6Nyn",
        "outputId": "1d749b52-898e-4544-e3fb-a5ac2ec772de",
        "colab": {
          "base_uri": "https://localhost:8080/"
        }
      },
      "outputs": [
        {
          "output_type": "stream",
          "name": "stdout",
          "text": [
            "tensão_de_trabalho = 498.72 kgf/cm²\n"
          ]
        }
      ],
      "source": [
        "#Calculo da tensão admissivel e de trabalho\n",
        "\n",
        "#tensão de trabalho\n",
        "Abarra=29\n",
        "\n",
        "tensão_de_trabalho = F/Abarra\n",
        "tensão_de_trabalho\n",
        "\n",
        "print(f\"tensão_de_trabalho = {(round(tensão_de_trabalho,2))} kgf/cm²\")\n"
      ]
    },
    {
      "cell_type": "code",
      "execution_count": null,
      "metadata": {
        "id": "TGcH5W9U6Nyo",
        "outputId": "2c189208-0d43-4a0e-938a-dec573075dd9",
        "colab": {
          "base_uri": "https://localhost:8080/"
        }
      },
      "outputs": [
        {
          "output_type": "stream",
          "name": "stdout",
          "text": [
            "indice_de_esbeltez = 92.82\n"
          ]
        }
      ],
      "source": [
        "#tensão admissivel de flambagem\n",
        "eaco= 2100000\n",
        "\n",
        "comprimento_de_flambagem=168 #cm\n",
        "raio_de_giracao_da_peca= 1.81 #tabelado\n",
        "\n",
        "#calculo indice de esbeltez\n",
        "indice_de_esbeltez= comprimento_de_flambagem/raio_de_giracao_da_peca\n",
        "\n",
        "print(f\"indice_de_esbeltez = {(round(indice_de_esbeltez,2))}\")\n",
        "\n"
      ]
    },
    {
      "cell_type": "code",
      "execution_count": null,
      "metadata": {
        "id": "EyYn6sai6Nyp",
        "outputId": "52ff82c4-2d74-4261-abdc-564c89318f32",
        "colab": {
          "base_uri": "https://localhost:8080/"
        }
      },
      "outputs": [
        {
          "output_type": "stream",
          "name": "stdout",
          "text": [
            "tensão_admissivel = 765.79 kgf/cm²\n"
          ]
        }
      ],
      "source": [
        "#calculo de tensão\n",
        "tensao_admissivel = (math.pi*eaco)/(indice_de_esbeltez**2)\n",
        "tensao_admissivel\n",
        "\n",
        "print(f\"tensão_admissivel = {(round(tensao_admissivel,2))} kgf/cm²\")"
      ]
    },
    {
      "cell_type": "markdown",
      "metadata": {
        "id": "dDaqx8pe6Nyq"
      },
      "source": [
        "Este código cria um loop para calcular os valores de dn com base nos valores de pz, diametro_silo, largura_util_da_chapa, coeficiente_de_sobrepressão, numero_de_parafusos e tensao_admissivel_parafuso, e armazena os resultados em uma lista dn_values. Em seguida, ele imprime os valores calculados com a notação dn1, dn2, etc., onde dn1 corresponde ao primeiro valor de pz, dn2 ao segundo, e assim por diante. Certifique-se de ajustar os valores dos parâmetros conforme necessário para seus cálculos específicos."
      ]
    },
    {
      "cell_type": "markdown",
      "metadata": {
        "id": "82qfdQ1w6Nyq"
      },
      "source": [
        "A ligação parafusada será com 2 furos na crista e 2 furos no canal. A chapa escolhida terá 24 corrugações, totalizando então 96 furos"
      ]
    },
    {
      "cell_type": "code",
      "execution_count": null,
      "metadata": {
        "id": "p64tSGdL6Nyq",
        "outputId": "ff3ca4f9-1d26-4599-eac1-e7d15ead39d3",
        "colab": {
          "base_uri": "https://localhost:8080/"
        }
      },
      "outputs": [
        {
          "output_type": "stream",
          "name": "stdout",
          "text": [
            "dn10 = 0.39 cm\n",
            "dn9 = 0.54 cm\n",
            "dn8 = 0.64 cm\n",
            "dn7 = 0.72 cm\n",
            "dn6 = 0.79 cm\n",
            "dn5 = 0.85 cm\n",
            "dn4 = 0.9 cm\n",
            "dn3 = 0.94 cm\n",
            "dn2 = 0.98 cm\n",
            "dn1 = 1.01 cm\n"
          ]
        }
      ],
      "source": [
        "#Parafusos\n",
        "\n",
        "#diametro do nucleo do parafuso\n",
        "coeficiente_de_sobrepressão = 2\n",
        "numero_de_parafusos = 96\n",
        "tensao_admissivel_parafuso = 800\n",
        "largura_util_da_chapa = 0.914\n",
        "\n",
        "pz_values = [538.6881357016514, 1025.5055924547435, 1466.9043023645677, 1868.3633704976166, 2234.5599303029217, 2569.5059887944753,\n",
        "             2876.6587842573063, 3159.010357749922, 3419.160695362881, 3659.3777970677506]\n",
        "\n",
        "# Lista para armazenar os valores de dn\n",
        "dn_values = []\n",
        "\n",
        "# Loop através da fórmula\n",
        "for pz in pz_values:\n",
        "    dn = math.sqrt((2*pz*diametro_silo*largura_util_da_chapa*coeficiente_de_sobrepressão)/\n",
        "                   (math.pi*numero_de_parafusos*tensao_admissivel_parafuso))\n",
        "    dn_values.append(dn)\n",
        "\n",
        "# Exibir os resultados\n",
        "for i, dn in enumerate(dn_values):\n",
        "    print(f\"dn{len(dn_values) - i} = {(round(dn,2))} cm\")\n"
      ]
    },
    {
      "cell_type": "markdown",
      "metadata": {
        "id": "krdIdL1h6Nyr"
      },
      "source": [
        "Este código cria um loop para calcular os valores de df com base nos valores de dn e a fórmula df = dn + 0.32, e armazena os resultados em uma lista df_values. Em seguida, ele imprime os valores calculados com a notação df1, df2, etc., onde df1 corresponde ao primeiro valor de dn, df2 ao segundo, e assim por diante."
      ]
    },
    {
      "cell_type": "code",
      "execution_count": null,
      "metadata": {
        "id": "6G8gBppD6Nyr",
        "outputId": "0bfbc297-65f7-4f29-9d72-b29c7e73da88",
        "colab": {
          "base_uri": "https://localhost:8080/"
        }
      },
      "outputs": [
        {
          "output_type": "stream",
          "name": "stdout",
          "text": [
            "df10 = 0.71 cm\n",
            "df9 = 0.86 cm\n",
            "df8 = 0.96 cm\n",
            "df7 = 1.04 cm\n",
            "df6 = 1.11 cm\n",
            "df5 = 1.17 cm\n",
            "df4 = 1.22 cm\n",
            "df3 = 1.26 cm\n",
            "df2 = 1.3 cm\n",
            "df1 = 1.33 cm\n"
          ]
        }
      ],
      "source": [
        "#diametro do furo\n",
        "\n",
        "# Valores fornecidos\n",
        "dn_values = [0.388809388878499, 0.5364596413039909, 0.6416067577317407, 0.7241002717880801, 0.7918885103363548, 0.8491665053609976,\n",
        "             0.8984878607307694, 0.9415503806353245, 0.979552674149129, 1.0133784456408605]\n",
        "\n",
        "# Lista para armazenar os valores de df\n",
        "df_values = []\n",
        "\n",
        "# Loop através da fórmula\n",
        "for dn in dn_values:\n",
        "    df = dn + 0.32\n",
        "    df_values.append(df)\n",
        "\n",
        "# Exibir os resultados\n",
        "for i, df in enumerate(df_values):\n",
        "    print(f\"df{len(dn_values) - i} = {(round(df,2))} cm\")"
      ]
    },
    {
      "cell_type": "markdown",
      "metadata": {
        "id": "hJIuVLqQ6Nys"
      },
      "source": [
        "Este código cria um loop para calcular os valores de e1 com base nos valores de pz, dn, numero_de_furos, largura_da_chapa, coeficiente_de_sobrepressão e tensao_admissiivel_ao_desgarro_da_chapa, e armazena os resultados em uma lista e1_values. Em seguida, ele imprime os valores calculados com a notação e11, e12, etc., onde e11 corresponde ao primeiro valor de pz e dn, e12 ao segundo, e assim por diante."
      ]
    },
    {
      "cell_type": "code",
      "execution_count": null,
      "metadata": {
        "id": "JiCPJ0-J6Nyt",
        "outputId": "a1b845ed-fa28-4ad6-8514-a88e886c2fef",
        "colab": {
          "base_uri": "https://localhost:8080/"
        }
      },
      "outputs": [
        {
          "output_type": "stream",
          "name": "stdout",
          "text": [
            "e110 = 0.06,cm\n",
            "e19 = 0.11,cm\n",
            "e18 = 0.16,cm\n",
            "e17 = 0.2,cm\n",
            "e16 = 0.24,cm\n",
            "e15 = 0.27,cm\n",
            "e14 = 0.31,cm\n",
            "e13 = 0.34,cm\n",
            "e12 = 0.36,cm\n",
            "e11 = 0.39,cm\n"
          ]
        }
      ],
      "source": [
        "#Espessura das chapas\n",
        "\n",
        "#espessura 1\n",
        "\n",
        "numero_de_furos=12\n",
        "largura_da_chapa = 100\n",
        "tensão_admissiivel_ao_desgarro_da_chapa=1900\n",
        "\n",
        "# Valores fornecidos\n",
        "pz_values = [538.6881357016514, 1025.5055924547435, 1466.9043023645677, 1868.3633704976166, 2234.5599303029217, 2569.5059887944753,\n",
        "             2876.6587842573063, 3159.010357749922, 3419.160695362881, 3659.3777970677506]\n",
        "df_values = [0.708809388878499, 0.8564596413039909, 0.9616067577317406, 1.04410027178808, 1.1118885103363547, 1.1691665053609976,\n",
        "             1.2184878607307694, 1.2615503806353245, 1.299552674149129,1.3333784456408606]\n",
        "\n",
        "numero_de_furos = 12\n",
        "largura_da_chapa = 100\n",
        "coeficiente_de_sobrepressão = 2\n",
        "tensao_admissiivel_a_tracao_da_chapa = 1900\n",
        "\n",
        "# Lista para armazenar os valores de e1\n",
        "e1_values = []\n",
        "\n",
        "# Loop através da fórmula\n",
        "for pz, dn in zip(pz_values, df_values):\n",
        "    e1= (pz*diametro_silo*largura_util_da_chapa*coeficiente_de_sobrepressão)/(2*(largura_da_chapa-(numero_de_furos*df))*\n",
        "                                                                              tensão_admissiivel_ao_desgarro_da_chapa)\n",
        "    e1_values.append(e1)\n",
        "\n",
        "# Exibir os resultados\n",
        "for i, e1 in enumerate(e1_values):\n",
        "    print(f\"e1{len(dn_values) - i} = {round(e1,2)},cm\")\n",
        "\n"
      ]
    },
    {
      "cell_type": "code",
      "execution_count": null,
      "metadata": {
        "id": "WFdlcdyj6Nyv",
        "outputId": "7ca38679-7b8b-4d07-d334-4d565ff333c8",
        "colab": {
          "base_uri": "https://localhost:8080/"
        }
      },
      "outputs": [
        {
          "output_type": "stream",
          "name": "stdout",
          "text": [
            "e11 = 0.07 cm\n",
            "e12 = 0.1 cm\n",
            "e13 = 0.12 cm\n",
            "e14 = 0.13 cm\n",
            "e15 = 0.14 cm\n",
            "e16 = 0.15 cm\n",
            "e17 = 0.16 cm\n",
            "e18 = 0.17 cm\n",
            "e19 = 0.18 cm\n",
            "e110 = 0.18 cm\n"
          ]
        }
      ],
      "source": [
        "#espessura 2\n",
        "\n",
        "numero_de_furos=12\n",
        "largura_da_chapa = 100\n",
        "tensão_admissiivel_ao_desgarro_da_chapa=3450\n",
        "coeficiente_de_sobrepressão = 2\n",
        "\n",
        "# Valores fornecidos\n",
        "pz_values = [538.6881357016514, 1025.5055924547435, 1466.9043023645677, 1868.3633704976166, 2234.5599303029217,\n",
        "             2569.5059887944753, 2876.6587842573063, 3159.010357749922, 3419.160695362881, 3659.3777970677506]\n",
        "dn_values = [0.388809388878499, 0.5364596413039909, 0.6416067577317407, 0.7241002717880801, 0.7918885103363548,\n",
        "             0.8491665053609976, 0.8984878607307694, 0.9415503806353245, 0.979552674149129, 1.0133784456408605]\n",
        "numero_de_furos = 12\n",
        "largura_da_chapa = 100\n",
        "\n",
        "# Lista para armazenar os valores de e1\n",
        "e2_values = []\n",
        "\n",
        "# Loop através da fórmula\n",
        "for pz, dn in zip(pz_values, dn_values):\n",
        "    e2= (pz*diametro_silo*largura_util_da_chapa*coeficiente_de_sobrepressão)/(2*numero_de_parafusos*dn*tensão_admissiivel_ao_desgarro_da_chapa)\n",
        "    e2_values.append(e2)\n",
        "\n",
        "# Exibir os resultados\n",
        "for i, e2 in enumerate(e2_values):\n",
        "    print(f\"e1{i+1} = {round(e2,2)} cm\")\n"
      ]
    },
    {
      "cell_type": "code",
      "execution_count": null,
      "metadata": {
        "id": "HZP49_Wo6Nyw",
        "outputId": "b2744089-1491-4066-c33f-fb51583c1ccb",
        "colab": {
          "base_uri": "https://localhost:8080/"
        }
      },
      "outputs": [
        {
          "output_type": "stream",
          "name": "stdout",
          "text": [
            "fvt=9334.08 kgf/m\n"
          ]
        }
      ],
      "source": [
        "#chumbadores\n",
        "numero_de_chumbadores= 32\n",
        "\n",
        "#carga do vento para silos\n",
        "fvt = 60*diametro_silo*altura_cilindro\n",
        "fvt\n",
        "\n",
        "print(f\"fvt={fvt} kgf/m\")\n"
      ]
    },
    {
      "cell_type": "code",
      "execution_count": null,
      "metadata": {
        "id": "KUzUJu_26Nyw",
        "outputId": "0b7365ba-a140-4025-fc74-efd9e5fafe99",
        "colab": {
          "base_uri": "https://localhost:8080/"
        }
      },
      "outputs": [
        {
          "output_type": "stream",
          "name": "stdout",
          "text": [
            "tração vertical=685.79 kgf/m\n"
          ]
        }
      ],
      "source": [
        "#carga distribuida a tração no anel\n",
        "tracao_vertical= (3*fvt*altura_cilindro)/((diametro_silo**2))\n",
        "tracao_vertical= (3*fvt*altura_cilindro)/((diametro_silo**2))\n",
        "\n",
        "\n",
        "print(f\"tração vertical={round(tracao_vertical,2)} kgf/m\")"
      ]
    },
    {
      "cell_type": "code",
      "execution_count": null,
      "metadata": {
        "id": "Tm1K07GL6Nyy",
        "outputId": "8c153947-2691-4682-f0e7-6a480dcb8884",
        "colab": {
          "base_uri": "https://localhost:8080/"
        }
      },
      "outputs": [
        {
          "output_type": "stream",
          "name": "stdout",
          "text": [
            "carga de tração=42.86 kgf/m\n"
          ]
        }
      ],
      "source": [
        "#carga de tração sofrida pelos chumbadores:\n",
        "fc= (6*fvt*altura_cilindro)/(numero_de_chumbadores*(diametro_silo)**2)\n",
        "fc\n",
        "\n",
        "print(f\"carga de tração={round(fc,2)} kgf/m\")"
      ]
    },
    {
      "cell_type": "code",
      "execution_count": null,
      "metadata": {
        "id": "Y1-ZhUDD6Ny0",
        "outputId": "28f17b55-74a6-4da9-bcc4-402a5387be60",
        "colab": {
          "base_uri": "https://localhost:8080/"
        }
      },
      "outputs": [
        {
          "output_type": "stream",
          "name": "stdout",
          "text": [
            "seção=0.02 cm²\n"
          ]
        }
      ],
      "source": [
        "#seção do chumbador\n",
        "secao = fc/tensao_admissiivel_a_tracao_da_chapa\n",
        "secao\n",
        "\n",
        "print(f\"seção={round(secao,2)} cm²\")"
      ]
    }
  ],
  "metadata": {
    "kernelspec": {
      "display_name": "Python 3",
      "language": "python",
      "name": "python3"
    },
    "language_info": {
      "codemirror_mode": {
        "name": "ipython",
        "version": 3
      },
      "file_extension": ".py",
      "mimetype": "text/x-python",
      "name": "python",
      "nbconvert_exporter": "python",
      "pygments_lexer": "ipython3",
      "version": "3.12.0"
    },
    "colab": {
      "provenance": [],
      "include_colab_link": true
    }
  },
  "nbformat": 4,
  "nbformat_minor": 0
}